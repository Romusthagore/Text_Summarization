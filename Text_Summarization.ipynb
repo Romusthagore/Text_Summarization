{
 "cells": [
  {
   "cell_type": "markdown",
   "metadata": {
    "id": "8jlR_bWxBxcy"
   },
   "source": [
    "#  Text Summarization Using MBart-large-5"
   ]
  },
  {
   "cell_type": "code",
   "execution_count": 1,
   "metadata": {
    "colab": {
     "base_uri": "https://localhost:8080/",
     "height": 316,
     "referenced_widgets": [
      "93ea4ddafa984f10bbde24a1fc85c6f4",
      "48012e0753db4de299a0d26577f6e3fa",
      "087c09f228c8419f9c9e76a8562a6418",
      "8f2d529776d64cf7b0b0ffc29548bec3",
      "ed989feec131432b933d5728f6c48baf",
      "53559db8ea04402282cbc25d2b090f0e",
      "4832383b48a74c8aa6a1515c2634313d",
      "45b4bb51b34c4c3f86008f515fbdb926",
      "40e7ad51403748caba780c425c47cd42",
      "ef1f5b862d9246af899391c32f4bc441",
      "71311ee24c89448caf341c3dec68287b",
      "d01bdcf30cbe4b0196f4d4f57b1bbe5b",
      "ab1fef26006d4b958563a925079b8fcc",
      "96ace8211d374002827a25027cc6e116",
      "62f1bc9927134c8abe25a86e7ca9b7d9",
      "bf20292811d7472fac9ff63ff40f3b56",
      "f7bc092973184bf9b57caef3a35602b1",
      "d3254589e25341e382fb15f0500e8231",
      "4c2415f1823d41879e0fef9aea2deb4e",
      "eb81eea2cf8c4659a8704c80f8ea4b8b",
      "a5d6ffa8c6714214a82917207775ec22",
      "617ae5abcd0e4db69e86c431a6efb681",
      "997d1369dbd14a26920d91b8b3f79e04",
      "57011eee54b646938ea55fda621047b5",
      "58b1b0ec1ac941b5a3a6bf033efa8f5a",
      "2b330a45f6204344a7f15497ed466c8b",
      "bddf84c0a71145cfb2b78e238e81cad5",
      "e9ec5c09a5a94723bee41fcf7d4757b7",
      "7adcbb29eac746d3ae4a97dcfcab7b5f",
      "43688121762d4cfe9e4ce747833a7a69",
      "801b92d672984699b79d8ac1e922c1c5",
      "323895846bb04e3b9fde59377b199ea4",
      "15f77041574c4a1ab4454efb920c491e",
      "acda2ee0ca3a499ab5e4cfb6aa6de842",
      "0f3000e62d5543d597493286aee12a2d",
      "1abb05b977bf466a904f6b37844c1bed",
      "7f77c4b731c74ed89059dcc6b4fe91cf",
      "dcf2a33c0d0c4a0c8dbeec53799b5230",
      "72d6e35cc02c42deb5df4422fe241395",
      "d01162d65ab343dc9e825f2cef9cd347",
      "3bf81c00b1124f9f98cbae1cd2c9fe72",
      "a25cb3d3b5ca4371b34065c8bd7bf30f",
      "8af2ad8c469a4d61a87092ae621990bb",
      "1ab5350cd6f54aacb11cf65d3f7bb784",
      "9650ee29e0c848ee9be867ef85811c67",
      "95b3c332109d4d32b94005870746aa13",
      "9ff62a91608e4f9e8417ebd043595aab",
      "dac079b8f6f64e0ba181496d374d4486",
      "07140989d07a4811843cd98e0f444f01",
      "7622641a94dd4231ad11a2f475affbe4",
      "c248db2fc8074ab2bf0d0f6fce5f6001",
      "25b5d78045be4adc9e3c8b3bef234e40",
      "c7ce0ba005874784b13daf85ddbed3b9",
      "18fcd0149fad454aac1d7252b458b257",
      "64d389dca5f94f708ac87a6e4b4949e7",
      "d97236bf8f2944f7b87b7e816bab1203",
      "0cc08a24f1ab44069c4fc75ebdc93bbc",
      "08790c38c2b541ebb0b604065397d66b",
      "3e88d4999b3a4e42a33a728bfd302b53",
      "7db269458165479bbb83a33496a1ec78",
      "57fd7be5b39743969765a0de747ec1d7",
      "cb001baed66e4e509b16542938333521",
      "3c3f9ef9204140eab655537ddcd12bd2",
      "c35523acb9c94bf4a7fb7dd70154783f",
      "39dd5cf41b754480ac81ad0e6d290f9b",
      "e1bb41c05cba4c959e4d4fe43bffaed8"
     ]
    },
    "id": "g82ewaxv5pSA",
    "outputId": "3307999c-726a-4578-e645-d7e125e9c212"
   },
   "outputs": [
    {
     "name": "stderr",
     "output_type": "stream",
     "text": [
      "/usr/local/lib/python3.12/dist-packages/huggingface_hub/utils/_auth.py:94: UserWarning: \n",
      "The secret `HF_TOKEN` does not exist in your Colab secrets.\n",
      "To authenticate with the Hugging Face Hub, create a token in your settings tab (https://huggingface.co/settings/tokens), set it as secret in your Google Colab and restart your session.\n",
      "You will be able to reuse this secret in all of your notebooks.\n",
      "Please note that authentication is recommended but still optional to access public models or datasets.\n",
      "  warnings.warn(\n"
     ]
    },
    {
     "data": {
      "application/vnd.jupyter.widget-view+json": {
       "model_id": "93ea4ddafa984f10bbde24a1fc85c6f4",
       "version_major": 2,
       "version_minor": 0
      },
      "text/plain": [
       "pytorch_model.bin:   0%|          | 0.00/2.44G [00:00<?, ?B/s]"
      ]
     },
     "metadata": {},
     "output_type": "display_data"
    },
    {
     "data": {
      "application/vnd.jupyter.widget-view+json": {
       "model_id": "d01bdcf30cbe4b0196f4d4f57b1bbe5b",
       "version_major": 2,
       "version_minor": 0
      },
      "text/plain": [
       "model.safetensors:   0%|          | 0.00/2.44G [00:00<?, ?B/s]"
      ]
     },
     "metadata": {},
     "output_type": "display_data"
    },
    {
     "data": {
      "application/vnd.jupyter.widget-view+json": {
       "model_id": "997d1369dbd14a26920d91b8b3f79e04",
       "version_major": 2,
       "version_minor": 0
      },
      "text/plain": [
       "generation_config.json:   0%|          | 0.00/261 [00:00<?, ?B/s]"
      ]
     },
     "metadata": {},
     "output_type": "display_data"
    },
    {
     "data": {
      "application/vnd.jupyter.widget-view+json": {
       "model_id": "acda2ee0ca3a499ab5e4cfb6aa6de842",
       "version_major": 2,
       "version_minor": 0
      },
      "text/plain": [
       "tokenizer_config.json:   0%|          | 0.00/531 [00:00<?, ?B/s]"
      ]
     },
     "metadata": {},
     "output_type": "display_data"
    },
    {
     "data": {
      "application/vnd.jupyter.widget-view+json": {
       "model_id": "9650ee29e0c848ee9be867ef85811c67",
       "version_major": 2,
       "version_minor": 0
      },
      "text/plain": [
       "sentencepiece.bpe.model:   0%|          | 0.00/5.07M [00:00<?, ?B/s]"
      ]
     },
     "metadata": {},
     "output_type": "display_data"
    },
    {
     "data": {
      "application/vnd.jupyter.widget-view+json": {
       "model_id": "d97236bf8f2944f7b87b7e816bab1203",
       "version_major": 2,
       "version_minor": 0
      },
      "text/plain": [
       "special_tokens_map.json:   0%|          | 0.00/649 [00:00<?, ?B/s]"
      ]
     },
     "metadata": {},
     "output_type": "display_data"
    }
   ],
   "source": [
    "from transformers import MBartForConditionalGeneration, MBart50TokenizerFast\n",
    "\n",
    "model = MBartForConditionalGeneration.from_pretrained(\"facebook/mbart-large-50\")\n",
    "tokenizer = MBart50TokenizerFast.from_pretrained(\"facebook/mbart-large-50\", src_lang=\"fr_XX\")\n",
    "\n",
    "def resumer_texte(texte):\n",
    "    inputs = tokenizer(texte, return_tensors=\"pt\", max_length=1024, truncation=True)\n",
    "    summary_ids = model.generate(\n",
    "        inputs[\"input_ids\"],\n",
    "        max_length=150,\n",
    "        min_length=40,\n",
    "        length_penalty=2.0,\n",
    "        num_beams=4,\n",
    "        early_stopping=True\n",
    "    )\n",
    "    return tokenizer.decode(summary_ids[0], skip_special_tokens=True)"
   ]
  },
  {
   "cell_type": "markdown",
   "metadata": {
    "id": "9Fly5yLCFa9n"
   },
   "source": [
    "### Model Setup and Summary Function"
   ]
  },
  {
   "cell_type": "code",
   "execution_count": 6,
   "metadata": {
    "colab": {
     "base_uri": "https://localhost:8080/"
    },
    "id": "nGgiY1eW-bPB",
    "outputId": "63390174-40ac-429f-f012-f0a52884f5a5"
   },
   "outputs": [
    {
     "name": "stdout",
     "output_type": "stream",
     "text": [
      "======================================================================\n",
      "mBART-50 SUMMARY MODEL EVALUATION\n",
      "======================================================================\n"
     ]
    }
   ],
   "source": [
    "import torch\n",
    "\n",
    "print(\"=\" * 70)\n",
    "print(\"mBART-50 SUMMARY MODEL EVALUATION\")\n",
    "print(\"=\" * 70)\n",
    "\n",
    "# Move model to GPU if available\n",
    "device = \"cuda\" if torch.cuda.is_available() else \"cpu\"\n",
    "model = model.to(device)\n",
    "model.eval()\n",
    "\n",
    "# ============================================================================\n",
    "# SUMMARY FUNCTION\n",
    "# ============================================================================\n",
    "\n",
    "def summarize(text, language=\"fr_XX\", max_length=150):\n",
    "    \"\"\"Generate a summary of the given text.\"\"\"\n",
    "    tokenizer.src_lang = language\n",
    "\n",
    "    inputs = tokenizer(\n",
    "        text,\n",
    "        return_tensors=\"pt\",\n",
    "        max_length=1024,\n",
    "        truncation=True\n",
    "    ).to(device)\n",
    "\n",
    "    with torch.no_grad():\n",
    "        summary_ids = model.generate(\n",
    "            inputs[\"input_ids\"],\n",
    "            max_length=max_length,\n",
    "            min_length=40,\n",
    "            length_penalty=2.0,\n",
    "            num_beams=4,\n",
    "            no_repeat_ngram_size=3,\n",
    "            early_stopping=True,\n",
    "            decoder_start_token_id=tokenizer.lang_code_to_id[language]\n",
    "        )\n",
    "\n",
    "    return tokenizer.decode(summary_ids[0], skip_special_tokens=True)\n"
   ]
  },
  {
   "cell_type": "markdown",
   "metadata": {
    "id": "pebEGcGpFo54"
   },
   "source": [
    "### Test Data and Evaluation"
   ]
  },
  {
   "cell_type": "code",
   "execution_count": 7,
   "metadata": {
    "colab": {
     "base_uri": "https://localhost:8080/"
    },
    "id": "umOOQpvDB8X2",
    "outputId": "c85e9786-d88c-4ab1-cab8-b19e30b1bbca"
   },
   "outputs": [
    {
     "name": "stdout",
     "output_type": "stream",
     "text": [
      "\n",
      " SUMMARY TESTS\n",
      "======================================================================\n",
      "\n",
      "1. Test in French (fr_XX)\n",
      "----------------------------------------------------------------------\n",
      "⏳ Generating summary...\n",
      "Original: 15 words\n",
      "Summary:  22 words (146.7%)\n",
      "Quality:  ISSUE\n",
      "Generated summary:\n",
      "Le Bénin est un pays d'Afrique de l'Ouest situé entre le Togo et le Nigeria... ... Lire la suite... ... le Bénin.com.au-delà...\n",
      "\n",
      "2. Test in English (en_XX)\n",
      "----------------------------------------------------------------------\n",
      "⏳ Generating summary...\n",
      "Original: 12 words\n",
      "Summary:  17 words (141.7%)\n",
      "Quality:  ISSUE\n",
      "Generated summary:\n",
      "Benin is a country in West Africa located between Togo and Nigeria... Read More... Read Less... Benin.com.au....Benin.gov.uk....\n"
     ]
    }
   ],
   "source": [
    "# ============================================================================\n",
    "# TEST DATA\n",
    "# ============================================================================\n",
    "\n",
    "tests = [\n",
    "    {\n",
    "        \"language\": \"fr_XX\",\n",
    "        \"name\": \"French\",\n",
    "        \"text\": \"\"\"Le Bénin est un pays d'Afrique de l'Ouest situé entre le Togo et le Nigeria...\"\"\",\n",
    "        \"expected_summary\": \"Le Bénin est un pays d'Afrique de l'Ouest avec environ 13 millions d'habitants...\"\n",
    "    },\n",
    "    {\n",
    "        \"language\": \"en_XX\",\n",
    "        \"name\": \"English\",\n",
    "        \"text\": \"\"\"Benin is a country in West Africa located between Togo and Nigeria...\"\"\",\n",
    "        \"expected_summary\": \"Benin is a West African country with 13 million people...\"\n",
    "    }\n",
    "]\n",
    "\n",
    "# ============================================================================\n",
    "# EVALUATION\n",
    "# ============================================================================\n",
    "\n",
    "print(\"\\n SUMMARY TESTS\")\n",
    "print(\"=\" * 70)\n",
    "\n",
    "results = []\n",
    "\n",
    "for i, test in enumerate(tests, 1):\n",
    "    print(f\"\\n{i}. Test in {test['name']} ({test['language']})\")\n",
    "    print(\"-\" * 70)\n",
    "\n",
    "    # Generate summary\n",
    "    print(\"⏳ Generating summary...\")\n",
    "    summary = summarize(test['text'], language=test['language'], max_length=100)\n",
    "\n",
    "    # Compute statistics\n",
    "    original_words = len(test['text'].split())\n",
    "    summary_words = len(summary.split())\n",
    "    compression_rate = (summary_words / original_words) * 100\n",
    "\n",
    "    # Basic quality check\n",
    "    meaningful = len(summary) > 20\n",
    "    no_repetition = \"Le Bénin Le Bénin\" not in summary and \"Benin Benin\" not in summary\n",
    "    proper_length = 30 <= summary_words <= 120\n",
    "    quality = \"GOOD\" if (meaningful and no_repetition and proper_length) else \"ISSUE\"\n",
    "\n",
    "    # Store results\n",
    "    results.append({\n",
    "        \"language\": test['name'],\n",
    "        \"original_words\": original_words,\n",
    "        \"summary_words\": summary_words,\n",
    "        \"compression_rate\": compression_rate,\n",
    "        \"quality\": quality,\n",
    "        \"summary\": summary\n",
    "    })\n",
    "\n",
    "    # Print summary\n",
    "    print(f\"Original: {original_words} words\")\n",
    "    print(f\"Summary:  {summary_words} words ({compression_rate:.1f}%)\")\n",
    "    print(f\"Quality:  {quality}\")\n",
    "    print(f\"Generated summary:\\n{summary}\")\n"
   ]
  },
  {
   "cell_type": "markdown",
   "metadata": {
    "id": "GF34UfQ8GiLz"
   },
   "source": [
    "### Global Results and Saving"
   ]
  },
  {
   "cell_type": "code",
   "execution_count": 8,
   "metadata": {
    "colab": {
     "base_uri": "https://localhost:8080/"
    },
    "id": "Q6Tjfv5YF7tv",
    "outputId": "2a7b5c98-f90d-47ca-d2e3-7f7bb05f33aa"
   },
   "outputs": [
    {
     "name": "stdout",
     "output_type": "stream",
     "text": [
      "\n",
      "======================================================================\n",
      "GLOBAL RESULTS\n",
      "======================================================================\n",
      "Global score: 0/2 (0%)\n",
      "Average compression rate: 144.2%\n",
      "French    : ISSUE - 22 words\n",
      "English   : ISSUE - 17 words\n",
      "Results saved in: evaluation_mbart_summary.txt\n"
     ]
    }
   ],
   "source": [
    "# ============================================================================\n",
    "# GLOBAL SUMMARY\n",
    "# ============================================================================\n",
    "\n",
    "print(\"\\n\" + \"=\" * 70)\n",
    "print(\"GLOBAL RESULTS\")\n",
    "print(\"=\" * 70)\n",
    "\n",
    "good_summaries = sum(1 for r in results if r['quality'] == \"GOOD\")\n",
    "total = len(results)\n",
    "score = (good_summaries / total) * 100\n",
    "\n",
    "avg_compression = sum(r['compression_rate'] for r in results) / total\n",
    "\n",
    "print(f\"Global score: {good_summaries}/{total} ({score:.0f}%)\")\n",
    "print(f\"Average compression rate: {avg_compression:.1f}%\")\n",
    "\n",
    "# Results per language\n",
    "for r in results:\n",
    "    print(f\"{r['language']:10s}: {r['quality']} - {r['summary_words']} words\")\n",
    "\n",
    "# Save results to a text file\n",
    "with open(\"evaluation_mbart_summary.txt\", \"w\", encoding=\"utf-8\") as f:\n",
    "    f.write(\"mBART-50 SUMMARY MODEL EVALUATION\\n\")\n",
    "    f.write(\"=\" * 70 + \"\\n\\n\")\n",
    "    f.write(f\"Global score: {score:.0f}%\\n\")\n",
    "    f.write(f\"Average compression rate: {avg_compression:.1f}%\\n\\n\")\n",
    "    for i, r in enumerate(results, 1):\n",
    "        f.write(f\"\\n{i}. {r['language']}\\n\")\n",
    "        f.write(f\"Quality: {r['quality']}\\n\")\n",
    "        f.write(f\"Original: {r['original_words']} words\\n\")\n",
    "        f.write(f\"Summary:  {r['summary_words']} words\\n\")\n",
    "        f.write(f\"Summary text: {r['summary']}\\n\")\n",
    "\n",
    "print(\"Results saved in: evaluation_mbart_summary.txt\")\n"
   ]
  }
 ],
 "metadata": {
  "colab": {
   "provenance": []
  },
  "kernelspec": {
   "display_name": "Python 3 (ipykernel)",
   "language": "python",
   "name": "python3"
  },
  "language_info": {
   "codemirror_mode": {
    "name": "ipython",
    "version": 3
   },
   "file_extension": ".py",
   "mimetype": "text/x-python",
   "name": "python",
   "nbconvert_exporter": "python",
   "pygments_lexer": "ipython3",
   "version": "3.11.2"
  }
 },
 "nbformat": 4,
 "nbformat_minor": 1
}
